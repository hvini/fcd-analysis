{
 "cells": [
  {
   "cell_type": "code",
   "execution_count": null,
   "metadata": {},
   "outputs": [],
   "source": [
    "import pandas as pd\n",
    "import numpy as np"
   ]
  },
  {
   "cell_type": "code",
   "execution_count": null,
   "metadata": {},
   "outputs": [],
   "source": [
    "class DataPreprocessor:\n",
    "\n",
    "    def __init__(self, df):\n",
    "\n",
    "        self.__df = df\n",
    "        self.__feature_dtypes=self.__df.dtypes\n",
    "\n",
    "    def _get_missing_values(self):\n",
    "\n",
    "        missing_values = self.__df.isnull().sum()\n",
    "        missing_values = missing_values[missing_values > 0]\n",
    "        missing_values = missing_values.sort_values(ascending=False)\n",
    "        \n",
    "        return missing_values\n",
    "    \n",
    "    def _get_zero_values(self):\n",
    "\n",
    "        zero_values = (self.__df == 0).sum()\n",
    "        zero_values = zero_values[zero_values > 0]\n",
    "        zero_values = zero_values.sort_values(ascending=False)\n",
    "\n",
    "        return zero_values\n",
    "    \n",
    "    def _info_table(self, feature_names, feature_dtypes, values, value_type='zero', hide_header=False):\n",
    "\n",
    "        print(\"=\" * 50)\n",
    "        if len(feature_names) == 0:\n",
    "\n",
    "            if not hide_header: print(f'====> This data does not contain any {value_type} values')\n",
    "            print()    \n",
    "\n",
    "            return\n",
    "\n",
    "        if not hide_header: print(f'====> This data contains {value_type} values')\n",
    "        print()\n",
    "    \n",
    "\n",
    "        print(\"{:13} {:13} {:30} {:15}\".format('Feature Name'.upper(),\n",
    "                                            'Data Format'.upper(),\n",
    "                                            f'{value_type} (Num-Perc)'.upper(),\n",
    "                                            'Seven Samples'.upper()))\n",
    "        for feature_name, dtype, value in zip(feature_names,feature_dtypes[feature_names],values):\n",
    "            feature_total_rows=self.__df[feature_name].shape[0]\n",
    "            print(\"{:15} {:14} {:20}\".format(feature_name,\n",
    "                                            str(dtype), \n",
    "                                            str(value) + ' - ' + \n",
    "                                            str(round(100*value/feature_total_rows,3))+' %'), end=\"\")\n",
    "\n",
    "            for i in range(0, 7):\n",
    "                print(self.__df[feature_name].iloc[i], end=\",\")\n",
    "            print()\n",
    "        \n",
    "        print()\n",
    "\n",
    "    def _info(self):  \n",
    "\n",
    "        missing_values=self._get_missing_values()\n",
    "        feature_names_missing=missing_values.index.values\n",
    "        missing_values=missing_values.values\n",
    "\n",
    "        zero_values=self._get_zero_values()\n",
    "        feature_names_zero=zero_values.index.values\n",
    "        zero_values=zero_values.values\n",
    "\n",
    "        rows, columns=self.__df.shape\n",
    "\n",
    "        print(\"=\" * 50)\n",
    "        print('====> This data contains {} rows and {} columns'.format(rows,columns))\n",
    "        print()\n",
    "        \n",
    "        self._info_table(feature_names_zero,\n",
    "                            self.__feature_dtypes,\n",
    "                            zero_values)\n",
    "\n",
    "        self._info_table(feature_names_missing,\n",
    "                            self.__feature_dtypes,\n",
    "                            missing_values,\n",
    "                            'null')\n",
    "        \n",
    "        print(\"=\"*50)\n",
    "\n",
    "    def remove_columns(self, columns):\n",
    "\n",
    "        self.__df=self.__df.drop(columns, axis=1)\n",
    "\n",
    "    def fill_with_group_median(self, columns):\n",
    "\n",
    "        for column in columns:\n",
    "\n",
    "            group_medians=self.__df.groupby('group')[column].transform(lambda x: round(x[x != 0].median(), 2))\n",
    "            self.__df[column] = self.__df[column].mask(self.__df[column] == 0, group_medians)\n",
    "\n",
    "        self._info_table(columns,\n",
    "                            self.__feature_dtypes,\n",
    "                            np.zeros(len(columns)),\n",
    "                            'zero',\n",
    "                            hide_header=True)\n",
    "        \n",
    "    def get_data(self):\n",
    "\n",
    "        return self.__df\n",
    "\n",
    "    def save_data(self, path):\n",
    "            \n",
    "        self.__df.to_csv(path, index=False)\n",
    "\n",
    "    def information(self):\n",
    "\n",
    "        return self._info()\n",
    "        "
   ]
  },
  {
   "cell_type": "code",
   "execution_count": null,
   "metadata": {},
   "outputs": [],
   "source": [
    "stats_t1 = pd.read_csv('../stats_t1/merged_data.csv')\n",
    "stats_flair = pd.read_csv('../stats/merged_data.csv')"
   ]
  },
  {
   "cell_type": "code",
   "execution_count": null,
   "metadata": {},
   "outputs": [],
   "source": [
    "data_preprocessor_t1 = DataPreprocessor(stats_t1)\n",
    "data_preprocessor_t1.information()"
   ]
  },
  {
   "cell_type": "code",
   "execution_count": null,
   "metadata": {},
   "outputs": [],
   "source": [
    "data_preprocessor_t1.remove_columns(['left_wm_hypointensities',\n",
    "                                     'right_wm_hypointensities',\n",
    "                                     'left_non_wm_hypointensities',\n",
    "                                     'right_non_wm_hypointensities',\n",
    "                                     'non_wm_hypointensities',\n",
    "                                     '5th_ventricle'])\n",
    "data_preprocessor_t1.information()"
   ]
  },
  {
   "cell_type": "code",
   "execution_count": null,
   "metadata": {},
   "outputs": [],
   "source": [
    "print(\"=\"*50)\n",
    "print(f'====> T1w data after inputation')\n",
    "\n",
    "data_preprocessor_t1.fill_with_group_median(['left_vessel', 'right_vessel', 'optic_chiasm'])"
   ]
  },
  {
   "cell_type": "code",
   "execution_count": null,
   "metadata": {},
   "outputs": [],
   "source": [
    "data_preprocessor_t1.save_data('../stats_t1/preprocessed_data.csv')"
   ]
  },
  {
   "cell_type": "code",
   "execution_count": null,
   "metadata": {},
   "outputs": [],
   "source": [
    "data_preprocessor_flair = DataPreprocessor(stats_flair)\n",
    "data_preprocessor_flair.information()"
   ]
  },
  {
   "cell_type": "code",
   "execution_count": null,
   "metadata": {},
   "outputs": [],
   "source": [
    "data_preprocessor_flair.remove_columns(['left_wm_hypointensities',\n",
    "                                     'right_wm_hypointensities',\n",
    "                                     'left_non_wm_hypointensities',\n",
    "                                     'right_non_wm_hypointensities',\n",
    "                                     'non_wm_hypointensities',\n",
    "                                     '5th_ventricle'])\n",
    "data_preprocessor_flair.information()"
   ]
  },
  {
   "cell_type": "code",
   "execution_count": null,
   "metadata": {},
   "outputs": [],
   "source": [
    "print(\"=\"*50)\n",
    "print(f'====> FLAIR data after inputation')\n",
    "\n",
    "data_preprocessor_flair.fill_with_group_median(['left_vessel', 'right_vessel', 'optic_chiasm'])"
   ]
  },
  {
   "cell_type": "code",
   "execution_count": null,
   "metadata": {},
   "outputs": [],
   "source": [
    "data_preprocessor_flair.save_data('../stats/preprocessed_data.csv')"
   ]
  }
 ],
 "metadata": {
  "kernelspec": {
   "display_name": "venv",
   "language": "python",
   "name": "python3"
  },
  "language_info": {
   "codemirror_mode": {
    "name": "ipython",
    "version": 3
   },
   "file_extension": ".py",
   "mimetype": "text/x-python",
   "name": "python",
   "nbconvert_exporter": "python",
   "pygments_lexer": "ipython3",
   "version": "3.12.7"
  }
 },
 "nbformat": 4,
 "nbformat_minor": 2
}
